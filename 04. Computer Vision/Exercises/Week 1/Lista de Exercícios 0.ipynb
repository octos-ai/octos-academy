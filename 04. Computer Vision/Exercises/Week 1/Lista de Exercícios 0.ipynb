{
 "cells": [
  {
   "cell_type": "markdown",
   "metadata": {},
   "source": [
    "# Imagens Como Funções"
   ]
  },
  {
   "cell_type": "markdown",
   "metadata": {},
   "source": [
    "## Descrição\n",
    "\n",
    "Este conjunto de problemas serve apenas para garantir que você consegue carregar uma imagem, manipular os valores, produzir alguma saída."
   ]
  },
  {
   "cell_type": "markdown",
   "metadata": {},
   "source": [
    "## Questões"
   ]
  },
  {
   "cell_type": "code",
   "execution_count": null,
   "metadata": {},
   "outputs": [],
   "source": [
    "import cv2\n",
    "import numpy as np\n",
    "from os import path"
   ]
  },
  {
   "cell_type": "markdown",
   "metadata": {},
   "source": [
    "### 1. Imagens de Entrada"
   ]
  },
  {
   "cell_type": "markdown",
   "metadata": {},
   "source": [
    "**A -** Encontre duas imagens interessantes para usar e as armazene como `ps0-1-a-1.png` e `ps0-1-a-2.png` dentro da pasta de saída.\n",
    "\n",
    "As imagens devem ser coloridas, de forma retangular (NÃO quadrados). Escolha um que seja larga e outro alta.\n",
    "\n",
    "Você pode encontrar alguns exemplos clássicos de visão [aqui](https://www.google.com/url?q=http://sipi.usc.edu/database/database.php?volume%3Dmisc&sa=D&ust=1606753605607000&usg=AOvVaw1_vozuqLein53FfyTW9Azo). Ou pegue o seu próprio. Certifique-se de que a largura ou altura da imagem não exceda 512 pixels."
   ]
  },
  {
   "cell_type": "code",
   "execution_count": 1,
   "metadata": {},
   "outputs": [],
   "source": [
    "## INSIRA AQUI O CÓDIGO"
   ]
  },
  {
   "cell_type": "markdown",
   "metadata": {},
   "source": [
    "### 2. Planos de Cor"
   ]
  },
  {
   "cell_type": "markdown",
   "metadata": {},
   "source": [
    "**A -** Troque os pixels vermelhos e azuis da imagem 1 e armazene como `ps0-2-a-1.png` na pasta de saída"
   ]
  },
  {
   "cell_type": "code",
   "execution_count": 3,
   "metadata": {},
   "outputs": [],
   "source": [
    "## INSIRA AQUI O CÓDIGO"
   ]
  },
  {
   "cell_type": "markdown",
   "metadata": {},
   "source": [
    "**B -** Crie uma imagem monocromática (`img1_green`) selecionando o canal verde da imagem 1 e armazene como `ps0-2-b-1.png` na pasta de saída"
   ]
  },
  {
   "cell_type": "code",
   "execution_count": 3,
   "metadata": {},
   "outputs": [],
   "source": [
    "## INSIRA AQUI O CÓDIGO"
   ]
  },
  {
   "cell_type": "markdown",
   "metadata": {},
   "source": [
    "**C -** Crie uma imagem monocromática (`img1_red`) selecionando o canal vermelho da imagem 1 e armazene como `ps0-2-c-1.png` na pasta de saída"
   ]
  },
  {
   "cell_type": "code",
   "execution_count": 3,
   "metadata": {},
   "outputs": [],
   "source": [
    "## INSIRA AQUI O CÓDIGO"
   ]
  },
  {
   "cell_type": "markdown",
   "metadata": {},
   "source": [
    "**D -** Qual se parece mais com o que você esperaria de uma imagem monocromática? Você esperaria que um algoritmo de visão por computador funcionasse melhor em um do que no outro?"
   ]
  },
  {
   "cell_type": "markdown",
   "metadata": {},
   "source": [
    "*RESPONDA AQUI*"
   ]
  },
  {
   "cell_type": "markdown",
   "metadata": {},
   "source": [
    "### 3. Substituição de Pixels"
   ]
  },
  {
   "cell_type": "markdown",
   "metadata": {},
   "source": [
    "**Observação**: Use o melhor canal de 2-b / 2-c como versões monocromáticas.\n",
    "\n",
    "**A -** Pegue a região quadrada central interna de 100x100 pixels da versão monocromática da imagem 1 e insira-os no centro da versão monocromática da imagem 2. Armazene a nova imagem criada como ps0-3-a-1.png"
   ]
  },
  {
   "cell_type": "code",
   "execution_count": null,
   "metadata": {},
   "outputs": [],
   "source": [
    "## INSIRA AQUI O CÓDIGO"
   ]
  },
  {
   "cell_type": "markdown",
   "metadata": {},
   "source": [
    "### 4. Operações Aritiméticas e Geométricas"
   ]
  },
  {
   "cell_type": "markdown",
   "metadata": {},
   "source": [
    "**A -** Qual é o mínimo e o máximo dos valores de pixel de `img1_green`? Qual o significado? Qual é o desvio padrão? E como você calculou isso?"
   ]
  },
  {
   "cell_type": "code",
   "execution_count": 3,
   "metadata": {},
   "outputs": [],
   "source": [
    "## INSIRA AQUI O CÓDIGO"
   ]
  },
  {
   "cell_type": "markdown",
   "metadata": {},
   "source": [
    "*RESPONDA AQUI*"
   ]
  },
  {
   "cell_type": "markdown",
   "metadata": {},
   "source": [
    "**B -** Subtraia a média de todos os pixels, divida pelo desvio padrão e multiplique por 10 (se sua imagem for de 0 a 255) ou por 0,05 (se sua imagem variar de 0,0 a 1,0). Agora adicione a média de volta. Armazene o resultado como `ps0-4-b-1.png`."
   ]
  },
  {
   "cell_type": "code",
   "execution_count": 3,
   "metadata": {},
   "outputs": [],
   "source": [
    "## INSIRA AQUI O CÓDIGO"
   ]
  },
  {
   "cell_type": "markdown",
   "metadata": {},
   "source": [
    "**C -** Desloque `img1_green` para a esquerda em 2 pixels e `ps0-4-c-1.png`."
   ]
  },
  {
   "cell_type": "code",
   "execution_count": null,
   "metadata": {},
   "outputs": [],
   "source": [
    "## INSIRA AQUI O CÓDIGO"
   ]
  },
  {
   "cell_type": "markdown",
   "metadata": {},
   "source": [
    "**D -** Subtraia a versão deslocada de `img1_green` do original e salve a imagem de diferença (certifique-se de que os valores são legais ao escrever a imagem para que você possa ver todas as diferenças relativas)."
   ]
  },
  {
   "cell_type": "code",
   "execution_count": null,
   "metadata": {},
   "outputs": [],
   "source": [
    "## INSIRA AQUI O CÓDIGO"
   ]
  },
  {
   "cell_type": "markdown",
   "metadata": {},
   "source": [
    "**E -** O que os valores de pixel negativos significam de qualquer maneira?"
   ]
  },
  {
   "cell_type": "markdown",
   "metadata": {},
   "source": [
    "*RESPONDA AQUI*"
   ]
  },
  {
   "cell_type": "markdown",
   "metadata": {},
   "source": [
    "### 5. Ruído"
   ]
  },
  {
   "cell_type": "markdown",
   "metadata": {},
   "source": [
    "**A -** Pegue a imagem colorida original (`imagem 1`) e comece a adicionar ruído gaussiano aos pixels no canal verde. Aumente o sigma até que o ruído seja um pouco visível. Armazene a imagem como `ps0-5-a-1.png`. Qual é o valor de sigma que você teve que usar?"
   ]
  },
  {
   "cell_type": "code",
   "execution_count": 3,
   "metadata": {},
   "outputs": [],
   "source": [
    "## INSIRA AQUI O CÓDIGO"
   ]
  },
  {
   "cell_type": "markdown",
   "metadata": {},
   "source": [
    "*RESPONDA AQUI*"
   ]
  },
  {
   "cell_type": "markdown",
   "metadata": {},
   "source": [
    "**B -** Agora, em vez disso, adicione essa quantidade de ruído ao canal azul e armazene como `ps0-5-b-1.png`."
   ]
  },
  {
   "cell_type": "code",
   "execution_count": 6,
   "metadata": {},
   "outputs": [],
   "source": [
    "## INSIRA AQUI O CÓDIGO"
   ]
  },
  {
   "cell_type": "markdown",
   "metadata": {},
   "source": [
    "**C -** Qual parece melhor? Por quê?"
   ]
  },
  {
   "cell_type": "markdown",
   "metadata": {},
   "source": [
    "*RESPONDA AQUI*"
   ]
  }
 ],
 "metadata": {
  "kernelspec": {
   "display_name": "Python 3",
   "language": "python",
   "name": "python3"
  },
  "language_info": {
   "codemirror_mode": {
    "name": "ipython",
    "version": 3
   },
   "file_extension": ".py",
   "mimetype": "text/x-python",
   "name": "python",
   "nbconvert_exporter": "python",
   "pygments_lexer": "ipython3",
   "version": "3.6.10"
  }
 },
 "nbformat": 4,
 "nbformat_minor": 4
}
